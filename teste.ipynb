{
 "cells": [
  {
   "cell_type": "markdown",
   "metadata": {},
   "source": [
    "Questão 1:"
   ]
  },
  {
   "cell_type": "code",
   "execution_count": 3,
   "metadata": {},
   "outputs": [
    {
     "name": "stdout",
     "output_type": "stream",
     "text": [
      "91\n"
     ]
    }
   ],
   "source": [
    "indice = 13\n",
    "soma = 0\n",
    "k = 0\n",
    "while(k < indice):\n",
    "    k += 1\n",
    "    soma += k\n",
    "print(soma)"
   ]
  },
  {
   "cell_type": "markdown",
   "metadata": {},
   "source": [
    "Questão 2:"
   ]
  },
  {
   "cell_type": "code",
   "execution_count": 5,
   "metadata": {},
   "outputs": [
    {
     "name": "stdout",
     "output_type": "stream",
     "text": [
      "O número 154 não pertence à sequência de Fibonacci.\n"
     ]
    }
   ],
   "source": [
    "def fibonacci(n):\n",
    "    if n == 0:\n",
    "        return 0\n",
    "    elif n == 1:\n",
    "        return 1\n",
    "    else:\n",
    "        return fibonacci(n - 1) + fibonacci(n - 2)\n",
    "\n",
    "def is_fibonacci(num, n=0):\n",
    "    fib_num = fibonacci(n)\n",
    "    if fib_num == num:\n",
    "        return True\n",
    "    elif fib_num > num:\n",
    "        return False\n",
    "    else:\n",
    "        return is_fibonacci(num, n + 1)\n",
    "\n",
    "\n",
    "numero_informado = int(input(\"Informe um número: \"))\n",
    "\n",
    "if is_fibonacci(numero_informado):\n",
    "    print(f\"O número {numero_informado} pertence à sequência de Fibonacci.\")\n",
    "else:\n",
    "    print(f\"O número {numero_informado} não pertence à sequência de Fibonacci.\")\n"
   ]
  },
  {
   "cell_type": "markdown",
   "metadata": {},
   "source": [
    "Questão 3:"
   ]
  },
  {
   "cell_type": "code",
   "execution_count": 7,
   "metadata": {},
   "outputs": [
    {
     "name": "stdout",
     "output_type": "stream",
     "text": [
      "Menor faturamento: R$ 373.78\n",
      "Maior faturamento: R$ 48924.24\n",
      "Número de dias com faturamento acima da média: 10\n"
     ]
    }
   ],
   "source": [
    "import json\n",
    "\n",
    "def carregar_dados(fonte):\n",
    "    with open(fonte, 'r') as file:\n",
    "        dados = json.load(file)\n",
    "    return dados['faturamento']\n",
    "\n",
    "def calcular_menor_maior_faturamento(faturamentos):\n",
    "    faturamentos_validos = [valor for valor in faturamentos if valor > 0]\n",
    "    menor_faturamento = min(faturamentos_validos)\n",
    "    maior_faturamento = max(faturamentos_validos)\n",
    "    return menor_faturamento, maior_faturamento\n",
    "\n",
    "def calcular_media_mensal(faturamentos):\n",
    "    faturamentos_validos = [valor for valor in faturamentos if valor > 0]\n",
    "    media_mensal = sum(faturamentos_validos) / len(faturamentos_validos)\n",
    "    return media_mensal\n",
    "\n",
    "def dias_acima_da_media(faturamentos, media_mensal):\n",
    "    dias_acima = len([valor for valor in faturamentos if valor > media_mensal])\n",
    "    return dias_acima\n",
    "\n",
    "\n",
    "faturamentos = carregar_dados('faturamento.json')\n",
    "\n",
    "menor_faturamento, maior_faturamento = calcular_menor_maior_faturamento(faturamentos)\n",
    "media_mensal = calcular_media_mensal(faturamentos)\n",
    "dias_acima_media = dias_acima_da_media(faturamentos, media_mensal)\n",
    "\n",
    "\n",
    "print(f\"Menor faturamento: R$ {menor_faturamento:.2f}\")\n",
    "print(f\"Maior faturamento: R$ {maior_faturamento:.2f}\")\n",
    "print(f\"Número de dias com faturamento acima da média: {dias_acima_media}\")\n"
   ]
  },
  {
   "cell_type": "markdown",
   "metadata": {},
   "source": [
    "Questão 4:"
   ]
  },
  {
   "cell_type": "code",
   "execution_count": 8,
   "metadata": {},
   "outputs": [
    {
     "name": "stdout",
     "output_type": "stream",
     "text": [
      "Percentual de representação por estado:\n",
      "SP: 37.53%\n",
      "RJ: 20.29%\n",
      "MG: 16.17%\n",
      "ES: 15.03%\n",
      "Outros: 10.98%\n"
     ]
    }
   ],
   "source": [
    "\n",
    "faturamento_estados = {\n",
    "    'SP': 67836.43,\n",
    "    'RJ': 36678.66,\n",
    "    'MG': 29229.88,\n",
    "    'ES': 27165.48,\n",
    "    'Outros': 19849.53\n",
    "}\n",
    "\n",
    "\n",
    "faturamento_total = sum(faturamento_estados.values())\n",
    "\n",
    "\n",
    "percentual_estados = {estado: (valor / faturamento_total) * 100 for estado, valor in faturamento_estados.items()}\n",
    "\n",
    "print(\"Percentual de representação por estado:\")\n",
    "for estado, percentual in percentual_estados.items():\n",
    "    print(f\"{estado}: {percentual:.2f}%\")\n"
   ]
  },
  {
   "cell_type": "markdown",
   "metadata": {},
   "source": [
    "Questão 5:"
   ]
  },
  {
   "cell_type": "code",
   "execution_count": 10,
   "metadata": {},
   "outputs": [
    {
     "name": "stdout",
     "output_type": "stream",
     "text": [
      "String invertida: arara\n"
     ]
    }
   ],
   "source": [
    "def inverter_string(string):\n",
    "    string_invertida = \"\"\n",
    "    \n",
    "    for i in range(len(string) - 1, -1, -1):\n",
    "        string_invertida += string[i]\n",
    "    return string_invertida\n",
    "\n",
    "\n",
    "string_informada = input(\"Informe uma palavra para ser invertida: \")\n",
    "\n",
    "\n",
    "resultado = inverter_string(string_informada)\n",
    "\n",
    "\n",
    "print(f\"String invertida: {resultado}\")\n"
   ]
  }
 ],
 "metadata": {
  "kernelspec": {
   "display_name": "Python 3",
   "language": "python",
   "name": "python3"
  },
  "language_info": {
   "codemirror_mode": {
    "name": "ipython",
    "version": 3
   },
   "file_extension": ".py",
   "mimetype": "text/x-python",
   "name": "python",
   "nbconvert_exporter": "python",
   "pygments_lexer": "ipython3",
   "version": "3.12.4"
  }
 },
 "nbformat": 4,
 "nbformat_minor": 2
}
